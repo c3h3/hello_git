{
 "metadata": {
  "name": "",
  "signature": "sha256:edaf9848f3525f560df14f4fec5fea9eead39b2242dba7a601fc25ed31a3f6a7"
 },
 "nbformat": 3,
 "nbformat_minor": 0,
 "worksheets": [
  {
   "cells": [
    {
     "cell_type": "markdown",
     "metadata": {},
     "source": [
      "# (1) \u62c9\u65b0\u5c08\u6848"
     ]
    },
    {
     "cell_type": "markdown",
     "metadata": {},
     "source": [
      "# git clone ..."
     ]
    },
    {
     "cell_type": "markdown",
     "metadata": {},
     "source": [
      "# (2) git status"
     ]
    },
    {
     "cell_type": "markdown",
     "metadata": {},
     "source": [
      "# (3) git add"
     ]
    },
    {
     "cell_type": "markdown",
     "metadata": {},
     "source": [
      "# (4) git push "
     ]
    },
    {
     "cell_type": "code",
     "collapsed": false,
     "input": [],
     "language": "python",
     "metadata": {},
     "outputs": []
    }
   ],
   "metadata": {}
  }
 ]
}